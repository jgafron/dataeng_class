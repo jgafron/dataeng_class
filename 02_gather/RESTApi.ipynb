{
 "cells": [
  {
   "cell_type": "code",
   "execution_count": 3,
   "id": "42b8e7e0",
   "metadata": {},
   "outputs": [
    {
     "name": "stdout",
     "output_type": "stream",
     "text": [
      "Enter the city where our class meets: portland\n",
      "Enter the date of the next class meeting (YYYY-MM-DD): 2024-04-15\n",
      "Current weather in portland: Clouds\n",
      "It will be raining on 2024-04-15 in portland when our class next meets.\n"
     ]
    }
   ],
   "source": [
    "import requests\n",
    "from datetime import datetime, timedelta\n",
    "\n",
    "def get_weather(city_name):\n",
    "    api_key = \"860c65b95f41b559a71556d3a1003f11\"\n",
    "    url = f\"http://api.openweathermap.org/data/2.5/weather?q={city_name}&appid={api_key}\"\n",
    "    response = requests.get(url)\n",
    "    if response.status_code == 200:\n",
    "        data = response.json()\n",
    "        return data[\"weather\"][0][\"main\"] if \"weather\" in data else None\n",
    "    return None\n",
    "\n",
    "def forecast_rain(city_name, date):\n",
    "    api_key = \"860c65b95f41b559a71556d3a1003f11\"\n",
    "    start_date = date.strftime(\"%Y-%m-%d\")\n",
    "    end_date = (date + timedelta(days=1)).strftime(\"%Y-%m-%d\")\n",
    "    url = f\"http://api.openweathermap.org/data/2.5/forecast?q={city_name}&appid={api_key}&start={start_date}&end={end_date}\"\n",
    "    response = requests.get(url)\n",
    "    if response.status_code == 200:\n",
    "        data = response.json()\n",
    "        for forecast in data[\"list\"]:\n",
    "            if \"rain\" in forecast[\"weather\"][0][\"main\"].lower():\n",
    "                return True\n",
    "    return False\n",
    "\n",
    "# Prompt user for meeting location\n",
    "city_name = input(\"Enter the city where our class meets: \")\n",
    "\n",
    "# Prompt user for the date of the next class meeting\n",
    "meeting_date_str = input(\"Enter the date of the next class meeting (YYYY-MM-DD): \")\n",
    "\n",
    "try:\n",
    "    meeting_date = datetime.strptime(meeting_date_str, \"%Y-%m-%d\")\n",
    "except ValueError:\n",
    "    print(\"Invalid date format. Please use YYYY-MM-DD.\")\n",
    "    exit()\n",
    "\n",
    "# Check current weather in the meeting city\n",
    "current_weather = get_weather(city_name)\n",
    "if current_weather:\n",
    "    print(f\"Current weather in {city_name}: {current_weather}\")\n",
    "else:\n",
    "    print(f\"Weather data not available for {city_name}. Please check the city name or try again later.\")\n",
    "\n",
    "# Forecast rain on the meeting day\n",
    "will_it_rain = forecast_rain(city_name, meeting_date)\n",
    "if will_it_rain is not None:\n",
    "    rain_status = \"will\" if will_it_rain else \"will not\"\n",
    "    print(f\"It {rain_status} be raining on {meeting_date_str} in {city_name} when our class next meets.\")\n",
    "else:\n",
    "    print(\"Failed to retrieve weather forecast.\")"
   ]
  },
  {
   "cell_type": "code",
   "execution_count": null,
   "id": "5637d626",
   "metadata": {},
   "outputs": [],
   "source": []
  }
 ],
 "metadata": {
  "kernelspec": {
   "display_name": "Python 3 (ipykernel)",
   "language": "python",
   "name": "python3"
  },
  "language_info": {
   "codemirror_mode": {
    "name": "ipython",
    "version": 3
   },
   "file_extension": ".py",
   "mimetype": "text/x-python",
   "name": "python",
   "nbconvert_exporter": "python",
   "pygments_lexer": "ipython3",
   "version": "3.9.12"
  }
 },
 "nbformat": 4,
 "nbformat_minor": 5
}
