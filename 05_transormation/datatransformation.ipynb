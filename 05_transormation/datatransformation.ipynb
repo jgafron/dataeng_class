{
 "cells": [
  {
   "cell_type": "code",
   "execution_count": 18,
   "id": "dce9a3f2-e50d-438e-b1bc-6a9b81c8ee3d",
   "metadata": {},
   "outputs": [
    {
     "name": "stdout",
     "output_type": "stream",
     "text": [
      "   EVENT_NO_TRIP  EVENT_NO_STOP            OPD_DATE  VEHICLE_ID  METERS  \\\n",
      "0      259172515      259172517  15FEB2023:00:00:00        4223      40   \n",
      "1      259172515      259172517  15FEB2023:00:00:00        4223      48   \n",
      "2      259172515      259172517  15FEB2023:00:00:00        4223      57   \n",
      "3      259172515      259172517  15FEB2023:00:00:00        4223      73   \n",
      "4      259172515      259172517  15FEB2023:00:00:00        4223     112   \n",
      "\n",
      "   ACT_TIME  GPS_LONGITUDE  GPS_LATITUDE  GPS_SATELLITES  GPS_HDOP  \n",
      "0     20469    -122.648137     45.493082              12       0.7  \n",
      "1     20474    -122.648240     45.493070              12       0.8  \n",
      "2     20479    -122.648352     45.493123              12       0.8  \n",
      "3     20484    -122.648385     45.493262              12       0.7  \n",
      "4     20489    -122.648347     45.493582              12       0.8  \n"
     ]
    }
   ],
   "source": [
    "import pandas as pd\n",
    "\n",
    "df = pd.read_csv('C:/Users/joeyg/Downloads/inclassbus.csv')\n",
    "print(df.head())"
   ]
  },
  {
   "cell_type": "code",
   "execution_count": 19,
   "id": "905baec6-4bbc-425b-9984-331969a4b055",
   "metadata": {},
   "outputs": [
    {
     "name": "stdout",
     "output_type": "stream",
     "text": [
      "   EVENT_NO_TRIP            OPD_DATE  VEHICLE_ID  METERS  ACT_TIME  \\\n",
      "0      259172515  15FEB2023:00:00:00        4223      40     20469   \n",
      "1      259172515  15FEB2023:00:00:00        4223      48     20474   \n",
      "2      259172515  15FEB2023:00:00:00        4223      57     20479   \n",
      "3      259172515  15FEB2023:00:00:00        4223      73     20484   \n",
      "4      259172515  15FEB2023:00:00:00        4223     112     20489   \n",
      "\n",
      "   GPS_LONGITUDE  GPS_LATITUDE  GPS_SATELLITES  GPS_HDOP  \n",
      "0    -122.648137     45.493082              12       0.7  \n",
      "1    -122.648240     45.493070              12       0.8  \n",
      "2    -122.648352     45.493123              12       0.8  \n",
      "3    -122.648385     45.493262              12       0.7  \n",
      "4    -122.648347     45.493582              12       0.8  \n"
     ]
    }
   ],
   "source": [
    "df2 = df.drop(columns=['EVENT_NO_STOP'])\n",
    "print(df2.head())"
   ]
  },
  {
   "cell_type": "code",
   "execution_count": 21,
   "id": "15e772ee-3fc4-416c-902a-c4cfa1830574",
   "metadata": {},
   "outputs": [
    {
     "name": "stdout",
     "output_type": "stream",
     "text": [
      "   EVENT_NO_TRIP  EVENT_NO_STOP            OPD_DATE  VEHICLE_ID  METERS  \\\n",
      "0      259172515      259172517  15FEB2023:00:00:00        4223      40   \n",
      "1      259172515      259172517  15FEB2023:00:00:00        4223      48   \n",
      "2      259172515      259172517  15FEB2023:00:00:00        4223      57   \n",
      "3      259172515      259172517  15FEB2023:00:00:00        4223      73   \n",
      "4      259172515      259172517  15FEB2023:00:00:00        4223     112   \n",
      "\n",
      "   ACT_TIME  GPS_LONGITUDE  GPS_LATITUDE  \n",
      "0     20469    -122.648137     45.493082  \n",
      "1     20474    -122.648240     45.493070  \n",
      "2     20479    -122.648352     45.493123  \n",
      "3     20484    -122.648385     45.493262  \n",
      "4     20489    -122.648347     45.493582  \n"
     ]
    }
   ],
   "source": [
    "df3 = df2.drop(columns=['GPS_SATELLITES', 'GPS_HDOP'])\n",
    "print(df3.head())"
   ]
  },
  {
   "cell_type": "code",
   "execution_count": 47,
   "id": "b5ef0417-e791-426a-b8ee-6118d4b6f2dc",
   "metadata": {},
   "outputs": [
    {
     "name": "stdout",
     "output_type": "stream",
     "text": [
      "   EVENT_NO_TRIP            OPD_DATE  VEHICLE_ID  METERS  ACT_TIME  \\\n",
      "0      259172515  15FEB2023:00:00:00        4223      40     20469   \n",
      "1      259172515  15FEB2023:00:00:00        4223      48     20474   \n",
      "2      259172515  15FEB2023:00:00:00        4223      57     20479   \n",
      "3      259172515  15FEB2023:00:00:00        4223      73     20484   \n",
      "4      259172515  15FEB2023:00:00:00        4223     112     20489   \n",
      "\n",
      "   GPS_LONGITUDE  GPS_LATITUDE  \n",
      "0    -122.648137     45.493082  \n",
      "1    -122.648240     45.493070  \n",
      "2    -122.648352     45.493123  \n",
      "3    -122.648385     45.493262  \n",
      "4    -122.648347     45.493582  \n"
     ]
    }
   ],
   "source": [
    "from datetime import datetime\n",
    "from datetime import timedelta\n",
    "import pandas as pd\n",
    "import numpy as np\n",
    "\n",
    "dataf = pd.read_csv('C:/Users/Mr. Grinch/Downloads/inclassbus.csv', usecols = ['EVENT_NO_TRIP','OPD_DATE','VEHICLE_ID', 'METERS', 'ACT_TIME', 'GPS_LONGITUDE', 'GPS_LATITUDE'])\n",
    "dataf2 = dataf\n",
    "print(dataf.head())                 "
   ]
  },
  {
   "cell_type": "code",
   "execution_count": 48,
   "id": "d57350d8-e64f-43b5-97af-544dc9e556de",
   "metadata": {},
   "outputs": [
    {
     "name": "stdout",
     "output_type": "stream",
     "text": [
      "   EVENT_NO_TRIP            OPD_DATE  VEHICLE_ID  METERS  ACT_TIME  \\\n",
      "0      259172515  15FEB2023:00:00:00        4223      40     20469   \n",
      "1      259172515  15FEB2023:00:00:00        4223      48     20474   \n",
      "2      259172515  15FEB2023:00:00:00        4223      57     20479   \n",
      "3      259172515  15FEB2023:00:00:00        4223      73     20484   \n",
      "4      259172515  15FEB2023:00:00:00        4223     112     20489   \n",
      "\n",
      "   GPS_LONGITUDE  GPS_LATITUDE           TIMESTAMP  \n",
      "0    -122.648137     45.493082 2023-02-15 05:41:09  \n",
      "1    -122.648240     45.493070 2023-02-15 05:41:14  \n",
      "2    -122.648352     45.493123 2023-02-15 05:41:19  \n",
      "3    -122.648385     45.493262 2023-02-15 05:41:24  \n",
      "4    -122.648347     45.493582 2023-02-15 05:41:29  \n"
     ]
    }
   ],
   "source": [
    "\n",
    "def applystrp(opd_date, act_time):\n",
    "    format_data = \"%d%b%Y:%H:%M:%S\"\n",
    "    act_time = int(act_time)\n",
    "    hours = act_time // 3600\n",
    "    minutes = (act_time % 3600) // 60\n",
    "    seconds = act_time % 60\n",
    "    deltavalue = timedelta(hours=hours, minutes=minutes, seconds=seconds)\n",
    "\n",
    "    timestamp = datetime.strptime(opd_date, format_data) + deltavalue\n",
    "    return timestamp\n",
    "\n",
    "dataf['TIMESTAMP'] = dataf.apply(lambda x: applystrp(x['OPD_DATE'], x['ACT_TIME']), axis=1)\n",
    "print(dataf.head())\n"
   ]
  },
  {
   "cell_type": "code",
   "execution_count": 49,
   "id": "a3537a22-a099-43ef-bfb3-ffc365900e98",
   "metadata": {},
   "outputs": [
    {
     "name": "stdout",
     "output_type": "stream",
     "text": [
      "   EVENT_NO_TRIP  VEHICLE_ID  METERS  GPS_LONGITUDE  GPS_LATITUDE  \\\n",
      "0      259172515        4223      40    -122.648137     45.493082   \n",
      "1      259172515        4223      48    -122.648240     45.493070   \n",
      "2      259172515        4223      57    -122.648352     45.493123   \n",
      "3      259172515        4223      73    -122.648385     45.493262   \n",
      "4      259172515        4223     112    -122.648347     45.493582   \n",
      "\n",
      "            TIMESTAMP  \n",
      "0 2023-02-15 05:41:09  \n",
      "1 2023-02-15 05:41:14  \n",
      "2 2023-02-15 05:41:19  \n",
      "3 2023-02-15 05:41:24  \n",
      "4 2023-02-15 05:41:29  \n"
     ]
    }
   ],
   "source": [
    "dataf3 = dataf2.drop(columns=['OPD_DATE', 'ACT_TIME'])\n",
    "print(dataf3.head())"
   ]
  },
  {
   "cell_type": "code",
   "execution_count": 50,
   "id": "4116a1fd",
   "metadata": {},
   "outputs": [
    {
     "name": "stdout",
     "output_type": "stream",
     "text": [
      "   EVENT_NO_TRIP  VEHICLE_ID  METERS  GPS_LONGITUDE  GPS_LATITUDE  \\\n",
      "0      259172515        4223      40    -122.648137     45.493082   \n",
      "1      259172515        4223      48    -122.648240     45.493070   \n",
      "2      259172515        4223      57    -122.648352     45.493123   \n",
      "3      259172515        4223      73    -122.648385     45.493262   \n",
      "4      259172515        4223     112    -122.648347     45.493582   \n",
      "\n",
      "            TIMESTAMP          SPEED  \n",
      "0 2023-02-15 05:41:09  <class 'int'>  \n",
      "1 2023-02-15 05:41:14  <class 'int'>  \n",
      "2 2023-02-15 05:41:19  <class 'int'>  \n",
      "3 2023-02-15 05:41:24  <class 'int'>  \n",
      "4 2023-02-15 05:41:29  <class 'int'>  \n"
     ]
    }
   ],
   "source": [
    "if 'SPEED' in dataf3.columns:\n",
    "    dataf3.drop('SPEED', axis=1, inplace=True)\n",
    "\n",
    "dataf3.insert(len(dataf3.columns), \"SPEED\", int)\n",
    "print(dataf3.head())"
   ]
  },
  {
   "cell_type": "code",
   "execution_count": 56,
   "id": "cd47ec9a",
   "metadata": {},
   "outputs": [
    {
     "name": "stdout",
     "output_type": "stream",
     "text": [
      "   EVENT_NO_TRIP  VEHICLE_ID  METERS  GPS_LONGITUDE  GPS_LATITUDE  \\\n",
      "0      259172515        4223      40    -122.648137     45.493082   \n",
      "1      259172515        4223      48    -122.648240     45.493070   \n",
      "2      259172515        4223      57    -122.648352     45.493123   \n",
      "3      259172515        4223      73    -122.648385     45.493262   \n",
      "4      259172515        4223     112    -122.648347     45.493582   \n",
      "\n",
      "            TIMESTAMP      SPEED  dMETERS  dTIMESTAMP  \n",
      "0 2023-02-15 05:41:09        NaN      NaN         NaN  \n",
      "1 2023-02-15 05:41:14   3.579097      8.0         5.0  \n",
      "2 2023-02-15 05:41:19   4.026484      9.0         5.0  \n",
      "3 2023-02-15 05:41:24   7.158194     16.0         5.0  \n",
      "4 2023-02-15 05:41:29  17.448098     39.0         5.0  \n"
     ]
    }
   ],
   "source": [
    "def calculateSpeed(meters, time):\n",
    "    # Check if either meters or time is NaN or NaT\n",
    "    if pd.isna(meters) or pd.isna(time):\n",
    "        return np.nan\n",
    "    elif time == 0:\n",
    "        return 0\n",
    "    else:\n",
    "        miles = meters * 0.000621371\n",
    "        # Convert time to hours\n",
    "        hours = time / 3600\n",
    "        # Calculate speed in mph\n",
    "        speed_mph = miles / hours\n",
    "        return speed_mph\n",
    "\n",
    "diff_meters = dataf3['METERS'].diff()\n",
    "diff_time = dataf3['TIMESTAMP'].diff().dt.total_seconds()\n",
    "\n",
    "# Drop existing columns if they exist\n",
    "dataf3.drop(['dMETERS', 'dTIMESTAMP'], axis=1, errors='ignore', inplace=True)\n",
    "\n",
    "dataf3['dMETERS'] = diff_meters\n",
    "dataf3['dTIMESTAMP'] = diff_time\n",
    "\n",
    "# Calculate speed for each row\n",
    "dataf3['SPEED'] = dataf3.apply(lambda row: calculateSpeed(row['dMETERS'], row['dTIMESTAMP']), axis=1)\n",
    "\n",
    "print(dataf3.head())"
   ]
  },
  {
   "cell_type": "code",
   "execution_count": 57,
   "id": "614a006b",
   "metadata": {},
   "outputs": [
    {
     "name": "stdout",
     "output_type": "stream",
     "text": [
      "   EVENT_NO_TRIP  VEHICLE_ID  METERS  GPS_LONGITUDE  GPS_LATITUDE  \\\n",
      "0      259172515        4223      40    -122.648137     45.493082   \n",
      "1      259172515        4223      48    -122.648240     45.493070   \n",
      "2      259172515        4223      57    -122.648352     45.493123   \n",
      "3      259172515        4223      73    -122.648385     45.493262   \n",
      "4      259172515        4223     112    -122.648347     45.493582   \n",
      "\n",
      "            TIMESTAMP      SPEED  \n",
      "0 2023-02-15 05:41:09        NaN  \n",
      "1 2023-02-15 05:41:14   3.579097  \n",
      "2 2023-02-15 05:41:19   4.026484  \n",
      "3 2023-02-15 05:41:24   7.158194  \n",
      "4 2023-02-15 05:41:29  17.448098  \n"
     ]
    }
   ],
   "source": [
    "dataf4 = dataf3.drop(columns=['dMETERS', 'dTIMESTAMP'])\n",
    "print(dataf4.head())"
   ]
  },
  {
   "cell_type": "code",
   "execution_count": 58,
   "id": "3b8666f1",
   "metadata": {},
   "outputs": [
    {
     "data": {
      "text/html": [
       "<div>\n",
       "<style scoped>\n",
       "    .dataframe tbody tr th:only-of-type {\n",
       "        vertical-align: middle;\n",
       "    }\n",
       "\n",
       "    .dataframe tbody tr th {\n",
       "        vertical-align: top;\n",
       "    }\n",
       "\n",
       "    .dataframe thead th {\n",
       "        text-align: right;\n",
       "    }\n",
       "</style>\n",
       "<table border=\"1\" class=\"dataframe\">\n",
       "  <thead>\n",
       "    <tr style=\"text-align: right;\">\n",
       "      <th></th>\n",
       "      <th>EVENT_NO_TRIP</th>\n",
       "      <th>VEHICLE_ID</th>\n",
       "      <th>METERS</th>\n",
       "      <th>GPS_LONGITUDE</th>\n",
       "      <th>GPS_LATITUDE</th>\n",
       "      <th>SPEED</th>\n",
       "    </tr>\n",
       "  </thead>\n",
       "  <tbody>\n",
       "    <tr>\n",
       "      <th>count</th>\n",
       "      <td>161.0</td>\n",
       "      <td>161.0</td>\n",
       "      <td>161.000000</td>\n",
       "      <td>161.000000</td>\n",
       "      <td>161.000000</td>\n",
       "      <td>160.000000</td>\n",
       "    </tr>\n",
       "    <tr>\n",
       "      <th>mean</th>\n",
       "      <td>259172515.0</td>\n",
       "      <td>4223.0</td>\n",
       "      <td>3589.186335</td>\n",
       "      <td>-122.666642</td>\n",
       "      <td>45.514643</td>\n",
       "      <td>16.166794</td>\n",
       "    </tr>\n",
       "    <tr>\n",
       "      <th>std</th>\n",
       "      <td>0.0</td>\n",
       "      <td>0.0</td>\n",
       "      <td>1810.681478</td>\n",
       "      <td>0.010093</td>\n",
       "      <td>0.010566</td>\n",
       "      <td>9.888606</td>\n",
       "    </tr>\n",
       "    <tr>\n",
       "      <th>min</th>\n",
       "      <td>259172515.0</td>\n",
       "      <td>4223.0</td>\n",
       "      <td>40.000000</td>\n",
       "      <td>-122.677585</td>\n",
       "      <td>45.493070</td>\n",
       "      <td>0.000000</td>\n",
       "    </tr>\n",
       "    <tr>\n",
       "      <th>25%</th>\n",
       "      <td>259172515.0</td>\n",
       "      <td>4223.0</td>\n",
       "      <td>1933.000000</td>\n",
       "      <td>-122.675990</td>\n",
       "      <td>45.503155</td>\n",
       "      <td>8.500355</td>\n",
       "    </tr>\n",
       "    <tr>\n",
       "      <th>50%</th>\n",
       "      <td>259172515.0</td>\n",
       "      <td>4223.0</td>\n",
       "      <td>4165.000000</td>\n",
       "      <td>-122.669730</td>\n",
       "      <td>45.517902</td>\n",
       "      <td>14.316388</td>\n",
       "    </tr>\n",
       "    <tr>\n",
       "      <th>75%</th>\n",
       "      <td>259172515.0</td>\n",
       "      <td>4223.0</td>\n",
       "      <td>5208.000000</td>\n",
       "      <td>-122.660792</td>\n",
       "      <td>45.523190</td>\n",
       "      <td>24.270751</td>\n",
       "    </tr>\n",
       "    <tr>\n",
       "      <th>max</th>\n",
       "      <td>259172515.0</td>\n",
       "      <td>4223.0</td>\n",
       "      <td>5918.000000</td>\n",
       "      <td>-122.647997</td>\n",
       "      <td>45.528065</td>\n",
       "      <td>38.922679</td>\n",
       "    </tr>\n",
       "  </tbody>\n",
       "</table>\n",
       "</div>"
      ],
      "text/plain": [
       "       EVENT_NO_TRIP  VEHICLE_ID       METERS  GPS_LONGITUDE  GPS_LATITUDE  \\\n",
       "count          161.0       161.0   161.000000     161.000000    161.000000   \n",
       "mean     259172515.0      4223.0  3589.186335    -122.666642     45.514643   \n",
       "std              0.0         0.0  1810.681478       0.010093      0.010566   \n",
       "min      259172515.0      4223.0    40.000000    -122.677585     45.493070   \n",
       "25%      259172515.0      4223.0  1933.000000    -122.675990     45.503155   \n",
       "50%      259172515.0      4223.0  4165.000000    -122.669730     45.517902   \n",
       "75%      259172515.0      4223.0  5208.000000    -122.660792     45.523190   \n",
       "max      259172515.0      4223.0  5918.000000    -122.647997     45.528065   \n",
       "\n",
       "            SPEED  \n",
       "count  160.000000  \n",
       "mean    16.166794  \n",
       "std      9.888606  \n",
       "min      0.000000  \n",
       "25%      8.500355  \n",
       "50%     14.316388  \n",
       "75%     24.270751  \n",
       "max     38.922679  "
      ]
     },
     "execution_count": 58,
     "metadata": {},
     "output_type": "execute_result"
    }
   ],
   "source": [
    "dataf4.describe()"
   ]
  },
  {
   "cell_type": "code",
   "execution_count": null,
   "id": "5bb8adef",
   "metadata": {},
   "outputs": [],
   "source": [
    "]"
   ]
  }
 ],
 "metadata": {
  "kernelspec": {
   "display_name": "Python 3 (ipykernel)",
   "language": "python",
   "name": "python3"
  },
  "language_info": {
   "codemirror_mode": {
    "name": "ipython",
    "version": 3
   },
   "file_extension": ".py",
   "mimetype": "text/x-python",
   "name": "python",
   "nbconvert_exporter": "python",
   "pygments_lexer": "ipython3",
   "version": "3.9.12"
  }
 },
 "nbformat": 4,
 "nbformat_minor": 5
}
