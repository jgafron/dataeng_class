{
 "cells": [
  {
   "cell_type": "code",
   "execution_count": 57,
   "id": "ac26f6af-f1ae-40f4-b8b3-dcd7572f3294",
   "metadata": {},
   "outputs": [
    {
     "name": "stdout",
     "output_type": "stream",
     "text": [
      "First 10 rows of the DataFrame:\n",
      "   Crash ID  Record Type  Vehicle ID  Participant ID  \\\n",
      "0   1809119            1         NaN             NaN   \n",
      "1   1809119            2   3409578.0             NaN   \n",
      "2   1809119            3   3409578.0       3887884.0   \n",
      "3   1809119            2   3409579.0             NaN   \n",
      "4   1809119            3   3409579.0       3887885.0   \n",
      "5   1809229            1         NaN             NaN   \n",
      "6   1809229            2   3409765.0             NaN   \n",
      "7   1809229            3   3409765.0       3888073.0   \n",
      "8   1809229            3         0.0       3888074.0   \n",
      "9   1809637            1         NaN             NaN   \n",
      "\n",
      "   Participant Display Seq#  Vehicle Coded Seq#  Participant Vehicle Seq#  \\\n",
      "0                       NaN                 NaN                       NaN   \n",
      "1                       NaN                 1.0                       NaN   \n",
      "2                       1.0                 1.0                       1.0   \n",
      "3                       NaN                 2.0                       NaN   \n",
      "4                       2.0                 2.0                       1.0   \n",
      "5                       NaN                 NaN                       NaN   \n",
      "6                       NaN                 1.0                       NaN   \n",
      "7                       1.0                 1.0                       1.0   \n",
      "8                       2.0                 NaN                       1.0   \n",
      "9                       NaN                 NaN                       NaN   \n",
      "\n",
      "   Serial #  Crash Month  Crash Day  ...  Participant Cause 2 Code  \\\n",
      "0   99992.0          3.0       14.0  ...                       NaN   \n",
      "1       NaN          NaN        NaN  ...                       NaN   \n",
      "2       NaN          NaN        NaN  ...                       NaN   \n",
      "3       NaN          NaN        NaN  ...                       NaN   \n",
      "4       NaN          NaN        NaN  ...                       NaN   \n",
      "5    2405.0          3.0        3.0  ...                       NaN   \n",
      "6       NaN          NaN        NaN  ...                       NaN   \n",
      "7       NaN          NaN        NaN  ...                       NaN   \n",
      "8       NaN          NaN        NaN  ...                       NaN   \n",
      "9    1811.0          5.0       17.0  ...                       NaN   \n",
      "\n",
      "   Participant Cause 3 Code  Participant Event 1 Code  \\\n",
      "0                       NaN                       NaN   \n",
      "1                       NaN                       NaN   \n",
      "2                       0.0                       9.0   \n",
      "3                       NaN                       NaN   \n",
      "4                       NaN                       9.0   \n",
      "5                       NaN                       NaN   \n",
      "6                       NaN                       NaN   \n",
      "7                       NaN                       0.0   \n",
      "8                       0.0                       9.0   \n",
      "9                       NaN                       NaN   \n",
      "\n",
      "   Participant Event 2 Code  Participant Event 3 Code  BAC Test Results Code  \\\n",
      "0                       NaN                       NaN                    NaN   \n",
      "1                       NaN                       NaN                    NaN   \n",
      "2                       0.0                       0.0                    NaN   \n",
      "3                       NaN                       NaN                    NaN   \n",
      "4                       9.0                       0.0                    NaN   \n",
      "5                       NaN                       NaN                    NaN   \n",
      "6                       NaN                       NaN                    NaN   \n",
      "7                       0.0                       0.0                    NaN   \n",
      "8                       1.0                       0.0                    NaN   \n",
      "9                       NaN                       NaN                    NaN   \n",
      "\n",
      "   Alcohol Use Reported  Drug Use Reported  \\\n",
      "0                   NaN                NaN   \n",
      "1                   NaN                NaN   \n",
      "2                   NaN                NaN   \n",
      "3                   NaN                NaN   \n",
      "4                   NaN                NaN   \n",
      "5                   NaN                NaN   \n",
      "6                   NaN                NaN   \n",
      "7                   NaN                NaN   \n",
      "8                   NaN                NaN   \n",
      "9                   NaN                NaN   \n",
      "\n",
      "   Participant Marijuana Use Reported  Participant Striker Flag  \n",
      "0                                 NaN                       NaN  \n",
      "1                                 NaN                       NaN  \n",
      "2                                 NaN                       NaN  \n",
      "3                                 NaN                       NaN  \n",
      "4                                 NaN                       NaN  \n",
      "5                                 NaN                       NaN  \n",
      "6                                 NaN                       NaN  \n",
      "7                                 NaN                       NaN  \n",
      "8                                 NaN                       NaN  \n",
      "9                                 NaN                       NaN  \n",
      "\n",
      "[10 rows x 157 columns]\n"
     ]
    }
   ],
   "source": [
    "import pandas as pd\n",
    "import os\n",
    "\n",
    "def load_data(filename):\n",
    "    try:\n",
    "        df = pd.read_csv(filename)\n",
    "        return df\n",
    "    except FileNotFoundError:\n",
    "        print(f\"Error: File '{filename}' not found.\")\n",
    "        return None\n",
    "    except Exception as e:\n",
    "        print(f\"Error: {e}\")\n",
    "        return None\n",
    "\n",
    "home_dir = os.path.expanduser(\"~\")\n",
    "\n",
    "relative_path = '/Users/joeyg/crashes.csv'\n",
    "\n",
    "filename = os.path.join(home_dir, relative_path)\n",
    "\n",
    "data_frame = load_data(filename)\n",
    "\n",
    "if data_frame is not None:\n",
    "    print(\"First 10 rows of the DataFrame:\")\n",
    "    print(data_frame.head(10))\n",
    "else:\n",
    "    print(\"Data loading failed.\")\n",
    "\n"
   ]
  },
  {
   "cell_type": "code",
   "execution_count": 8,
   "id": "0d4f6166-c895-4d66-93c6-606496997469",
   "metadata": {},
   "outputs": [
    {
     "name": "stdout",
     "output_type": "stream",
     "text": [
      "Removed 0 rows with missing Crash IDs.\n"
     ]
    }
   ],
   "source": [
    "def validateCrashId(data_frame):\n",
    "    # Count the number of rows with missing values in the \"Crash ID\" column\n",
    "    rows_removed = data_frame['Crash ID'].isnull().sum()\n",
    "\n",
    "    # Remove rows with missing values in the \"Crash ID\" column\n",
    "    cleaned_data_frame = data_frame.dropna(subset=['Crash ID'])\n",
    "\n",
    "    print(f\"Removed {rows_removed} rows with missing Crash IDs.\")\n",
    "    return cleaned_data_frame\n",
    "\n",
    "df2 = validateCrashId(data_frame)\n"
   ]
  },
  {
   "cell_type": "code",
   "execution_count": 46,
   "id": "94bf6c9c-7a1c-471c-bdf6-71c0631d6b53",
   "metadata": {},
   "outputs": [
    {
     "name": "stdout",
     "output_type": "stream",
     "text": [
      "Removed 0 rows with no value for Record Types.\n"
     ]
    }
   ],
   "source": [
    "def validateRecordType(data_frame):\n",
    "    # Count the number of rows where 'Record Type' is null or not a number\n",
    "    invalid_records = data_frame['Record Type'].isnull() | ~data_frame['Record Type'].astype(str).str.isdigit()\n",
    "\n",
    "    # Filter the DataFrame to include only rows where 'Record Type' is valid\n",
    "    cleaned_data_frame = data_frame[~invalid_records]\n",
    "\n",
    "    # Calculate the total count of rows removed\n",
    "    null_records = invalid_records.sum()\n",
    "\n",
    "    # Print the summary\n",
    "    print(f\"Removed {null_records} rows with no value for Record Types.\")\n",
    "\n",
    "    return cleaned_data_frame\n",
    "\n",
    "# Call the function with your DataFrame\n",
    "df3 = validateRecordType(df2)\n"
   ]
  },
  {
   "cell_type": "code",
   "execution_count": 47,
   "id": "4c971280-c1c1-4fc9-851b-c7ffe09e1c5c",
   "metadata": {},
   "outputs": [
    {
     "name": "stdout",
     "output_type": "stream",
     "text": [
      "Removed 0 rows with Record Type value greater than 3.\n"
     ]
    }
   ],
   "source": [
    "def validateCrashRecordTypes(data_frame):\n",
    "    rows_removed = (data_frame['Record Type'] > 3).sum()\n",
    "    \n",
    "    cleaned_data_frame = data_frame[data_frame['Record Type'] <= 3]\n",
    "    \n",
    "    \n",
    "    print(f\"Removed {rows_removed} rows with Record Type value greater than 3.\")\n",
    "    return cleaned_data_frame\n",
    "\n",
    "df4 = validateCrashRecordTypes(df3)\n"
   ]
  },
  {
   "cell_type": "code",
   "execution_count": 48,
   "id": "60c4fac1-3236-43a1-b389-3816a2e946c9",
   "metadata": {},
   "outputs": [
    {
     "name": "stdout",
     "output_type": "stream",
     "text": [
      "Removed 0 rows with Crash Month greater than 12.\n"
     ]
    }
   ],
   "source": [
    "def validateCrashMonth(data_frame):\n",
    "    rows_removed = (data_frame['Crash Month'] > 12).sum()\n",
    "    \n",
    "    cleaned_data_frame = data_frame[data_frame['Crash Month'] <= 12]\n",
    "    \n",
    "    \n",
    "    print(f\"Removed {rows_removed} rows with Crash Month greater than 12.\")\n",
    "    return cleaned_data_frame\n",
    "\n",
    "df5 = validateCrashMonth(df4)"
   ]
  },
  {
   "cell_type": "code",
   "execution_count": 49,
   "id": "2e60b94b-0d03-4e8c-bdcf-004ca1a88972",
   "metadata": {},
   "outputs": [
    {
     "name": "stdout",
     "output_type": "stream",
     "text": [
      "Number of rows with 'Total Pedalcyclist Count' > 1 and both 'Total Pedalcyclist Fatality Count' and 'Total Pedalcyclist Non-Fatal Injury Count' null: 0\n"
     ]
    }
   ],
   "source": [
    "def validatePedalcyclistCount(data_frame):\n",
    "    # Filter the DataFrame to get rows where 'Total Pedalcyclist Count' is above 0\n",
    "    has_pedalcyclist = data_frame[data_frame['Total Pedalcyclist Count'] > 0]\n",
    "\n",
    "    # Filter the above rows where both 'Total Pedalcyclist Fatality Count' and 'Total Pedalcyclist Non-Fatal Injury Count' are null\n",
    "    null_counts = has_pedalcyclist[(has_pedalcyclist['Total Pedalcyclist Fatality Count'].isnull()) & \n",
    "                                 (has_pedalcyclist['Total Pedalcyclist Non-Fatal Injury Count'].isnull())]\n",
    "\n",
    "    # Return the count of rows that meet the conditions\n",
    "    return len(null_counts)\n",
    "\n",
    "# Call the function with your DataFrame and store the result\n",
    "count_rows = validatePedalcyclistCount(df5)\n",
    "\n",
    "# Print the count of rows that meet the conditions\n",
    "print(f\"Number of rows with 'Total Pedalcyclist Count' > 1 and both 'Total Pedalcyclist Fatality Count' and 'Total Pedalcyclist Non-Fatal Injury Count' null: {count_rows}\")\n",
    "\n"
   ]
  },
  {
   "cell_type": "code",
   "execution_count": 50,
   "id": "95c5c4dc-ad9a-4c8d-905e-9d715bbe23f6",
   "metadata": {},
   "outputs": [
    {
     "name": "stdout",
     "output_type": "stream",
     "text": [
      "Has one record with participant ID as non-null, but same vehicle ID does not have its own record null: 0\n"
     ]
    }
   ],
   "source": [
    "def validateParticipantId(data_frame):\n",
    "    # Filter crash records with non-null participant ID\n",
    "    has_participants = data_frame[data_frame['Participant ID'].notnull()]\n",
    "\n",
    "    # Count the number of records where the same vehicle ID has both null and non-null participant IDs\n",
    "    violation_count = 0\n",
    "    for _, record in has_participants.iterrows():\n",
    "        same_vehicle_records = data_frame[(data_frame['Vehicle ID'] == record['Vehicle ID']) & \n",
    "                                           (data_frame['Participant ID'].isnull())]\n",
    "        if len(same_vehicle_records) == 0:\n",
    "            violation_count += 1\n",
    "\n",
    "    return violation_count\n",
    "\n",
    "violation_count = validateParticipantId(df5)\n",
    "\n",
    "(print(f\"Has one record with participant ID as non-null, but same vehicle ID does not have its own record null: {violation_count}\")\n",
    ")\n"
   ]
  },
  {
   "cell_type": "code",
   "execution_count": 51,
   "id": "954d62ef-6b48-4a6a-965e-0617080ea237",
   "metadata": {},
   "outputs": [
    {
     "name": "stdout",
     "output_type": "stream",
     "text": [
      "Number of rows with 'Total Pedalcyclist Count' > 1 and both 'Total Pedalcyclist Fatality Count' and 'Total Pedalcyclist Non-Fatal Injury Count' null: 0\n"
     ]
    }
   ],
   "source": [
    "def validateVehicleCrash(data_frame):\n",
    "    # Filter the DataFrame to get rows where 'Total Pedalcyclist Count' is above 0\n",
    "    has_pedalcyclist = data_frame[data_frame['Total Pedalcyclist Count'] > 0]\n",
    "\n",
    "    # Filter the above rows where both 'Total Pedalcyclist Fatality Count' and 'Total Pedalcyclist Non-Fatal Injury Count' are null\n",
    "    null_counts = has_pedalcyclist[(has_pedalcyclist['Total Pedalcyclist Fatality Count'].isnull()) & \n",
    "                                 (has_pedalcyclist['Total Pedalcyclist Non-Fatal Injury Count'].isnull())]\n",
    "\n",
    "    # Return the count of rows that meet the conditions\n",
    "    return len(null_counts)\n",
    "\n",
    "# Call the function with your DataFrame and store the result\n",
    "count_rows = validatePedalcyclistCount(df5)\n",
    "\n",
    "# Print the count of rows that meet the conditions\n",
    "print(f\"Number of rows with 'Total Pedalcyclist Count' > 1 and both 'Total Pedalcyclist Fatality Count' and 'Total Pedalcyclist Non-Fatal Injury Count' null: {count_rows}\")\n",
    "\n"
   ]
  },
  {
   "cell_type": "code",
   "execution_count": 52,
   "id": "24417988-1068-4499-82e1-3cf0698f56da",
   "metadata": {},
   "outputs": [
    {
     "name": "stdout",
     "output_type": "stream",
     "text": [
      "Number of rows where there is a 'Vehicle ID' but no 'Crash ID': 0\n"
     ]
    }
   ],
   "source": [
    "def validateVehicleCrash(data_frame):\n",
    "    # Filter the DataFrame to get rows where 'Vehicle ID' is not null and 'Crash ID' is null\n",
    "    missing_crash_id = data_frame[(data_frame['Vehicle ID'].notnull()) & (data_frame['Crash ID'].isnull())]\n",
    "\n",
    "    # Print the count of rows that meet the conditions\n",
    "    print(f\"Number of rows where there is a 'Vehicle ID' but no 'Crash ID': {len(missing_crash_id)}\")\n",
    "\n",
    "validateVehicleCrash(df5)\n"
   ]
  },
  {
   "cell_type": "code",
   "execution_count": 53,
   "id": "80f3f6c2-a285-4ed9-87b9-e33a28bac6a2",
   "metadata": {},
   "outputs": [
    {
     "name": "stdout",
     "output_type": "stream",
     "text": [
      "Crashes at night: 162, Crashes at daytime: 346\n"
     ]
    }
   ],
   "source": [
    "def summaryCrashHours(data_frame):\n",
    "    # Filter the DataFrame to count the amount of crashes that occurred before 7 p.m. and after 7 p.m.\n",
    "    crashes_at_night = len(data_frame[data_frame[\"Crash Hour\"] >= 17])\n",
    "    crashes_at_day = len(data_frame[data_frame[\"Crash Hour\"] < 17])\n",
    "\n",
    "    # Print the summary\n",
    "    print(\"Crashes at night: \" + str(crashes_at_night) + \", Crashes at daytime: \" + str(crashes_at_day))\n",
    "\n",
    "# Call the function with your DataFrame\n",
    "summaryCrashHours(df5)\n"
   ]
  },
  {
   "cell_type": "code",
   "execution_count": 54,
   "id": "9d22b4e1-9f0a-4b3f-9fda-9f08e494da79",
   "metadata": {},
   "outputs": [
    {
     "name": "stdout",
     "output_type": "stream",
     "text": [
      "Crashes when raining: 37, Crashes when its clear: 346\n"
     ]
    }
   ],
   "source": [
    "def summaryCrashWeather(data_frame):\n",
    "    # Filter the DataFrame to count the amount of crashes when there is rain and when its clear outside \n",
    "    crashes_when_rain = len(data_frame[data_frame[\"Weather Condition\"] == 3]) #When it is raining\n",
    "    crashes_when_clear = len(data_frame[data_frame[\"Weather Condition\"] == 1]) #When it is sunny/clear\n",
    "\n",
    "    # Print the summary\n",
    "    print(\"Crashes when raining: \" + str(crashes_when_rain) + \", Crashes when its clear: \" + str(crashes_when_clear))\n",
    "\n",
    "# Call the function with your DataFrame\n",
    "summaryCrashWeather(df5)\n"
   ]
  },
  {
   "cell_type": "code",
   "execution_count": 55,
   "id": "b0b08575-2fb3-4124-be53-29dc4235438a",
   "metadata": {},
   "outputs": [
    {
     "name": "stdout",
     "output_type": "stream",
     "text": [
      "Total crashes in wet or icy conditions: 89\n",
      "Crashes in winter months (December, January, February): 22\n",
      "Percentage of crashes in winter months among all wet or icy conditions: 24.72%\n",
      "\n",
      "Total crashes in dry conditions: 122\n",
      "Crashes in summer months (June, July, August): 29\n",
      "Percentage of crashes in summer months among all dry conditions: 23.77%\n"
     ]
    }
   ],
   "source": [
    "def verifyCrashDistribution(data_frame):\n",
    "    # Filter the DataFrame to include only rows where the road surface condition is wet or icy\n",
    "    wet_icy_conditions = data_frame[(data_frame[\"Road Surface Condition\"] == 2) | (data_frame[\"Road Surface Condition\"] == 4)]\n",
    "    # Further filter the DataFrame to include only winter months (December, January, and February)\n",
    "    winter_crashes = wet_icy_conditions[(wet_icy_conditions[\"Crash Month\"].isin([12, 1, 2]))]\n",
    "    # Count the number of crashes in wet or icy conditions during winter months\n",
    "    winter_crash_count = len(winter_crashes)\n",
    "    # Count the total number of crashes in wet or icy conditions\n",
    "    total_wet_icy_crashes = len(wet_icy_conditions)\n",
    "\n",
    "    # Calculate the percentage of crashes during winter months among all wet or icy conditions\n",
    "    winter_crash_percentage = (winter_crash_count / total_wet_icy_crashes) * 100\n",
    "\n",
    "    # Print the summary for wet or icy conditions in winter months\n",
    "    print(f\"Total crashes in wet or icy conditions: {total_wet_icy_crashes}\")\n",
    "    print(f\"Crashes in winter months (December, January, February): {winter_crash_count}\")\n",
    "    print(f\"Percentage of crashes in winter months among all wet or icy conditions: {winter_crash_percentage:.2f}%\")\n",
    "\n",
    "    # Filter the DataFrame to include only rows where the road surface condition is dry\n",
    "    dry_conditions = data_frame[data_frame[\"Road Surface Condition\"] == 1]\n",
    "    # Further filter the DataFrame to include only summer months (June, July, and August)\n",
    "    summer_crashes = dry_conditions[dry_conditions[\"Crash Month\"].isin([6, 7, 8])]\n",
    "    # Count the number of crashes in dry conditions during summer months\n",
    "    summer_crash_count = len(summer_crashes)\n",
    "    # Count the total number of crashes in dry conditions\n",
    "    total_dry_crashes = len(dry_conditions)\n",
    "\n",
    "    # Calculate the percentage of crashes during summer months with dry conditions\n",
    "    summer_crash_percentage = (summer_crash_count / total_dry_crashes) * 100\n",
    "\n",
    "    # Print the summary for dry conditions in summer months\n",
    "    print(f\"\\nTotal crashes in dry conditions: {total_dry_crashes}\")\n",
    "    print(f\"Crashes in summer months (June, July, August): {summer_crash_count}\")\n",
    "    print(f\"Percentage of crashes in summer months among all dry conditions: {summer_crash_percentage:.2f}%\")\n",
    "\n",
    "verifyCrashDistribution(df5)\n"
   ]
  },
  {
   "cell_type": "code",
   "execution_count": 56,
   "id": "743508ce-0bec-4f8d-b592-021d07a52a8a",
   "metadata": {},
   "outputs": [
    {
     "name": "stdout",
     "output_type": "stream",
     "text": [
      "Total crashes: 508\n",
      "Expected crashes per county (if evenly distributed): 169.33\n",
      "Standard deviation of crash counts: 163.59\n",
      "The amount of crashes across different counties is not evenly distributed.\n"
     ]
    }
   ],
   "source": [
    "def verifyCountyDistribution(data_frame):\n",
    "    # Count the number of unique crash IDs\n",
    "    total_crashes = data_frame['Crash ID'].nunique()\n",
    "\n",
    "    # Count the number of crashes in each county\n",
    "    county_crash_counts = data_frame['County Code'].value_counts()\n",
    "\n",
    "    # Calculate the expected number of crashes per county if the distribution is even\n",
    "    expected_crashes_per_county = total_crashes / len(county_crash_counts)\n",
    "\n",
    "    # Calculate the standard deviation\n",
    "    std_deviation = county_crash_counts.std()\n",
    "\n",
    "    # Print the summary\n",
    "    print(f\"Total crashes: {total_crashes}\")\n",
    "    print(f\"Expected crashes per county (if evenly distributed): {expected_crashes_per_county:.2f}\")\n",
    "    print(f\"Standard deviation of crash counts: {std_deviation:.2f}\")\n",
    "\n",
    "    # Check the standard deviation\n",
    "    if std_deviation < expected_crashes_per_county * 0.2:\n",
    "        print(\"The amount of crashes across different counties is evenly distributed.\")\n",
    "    else:\n",
    "        print(\"The amount of crashes across different counties is not evenly distributed.\")\n",
    "\n",
    "verifyCountyDistribution(df5)\n"
   ]
  },
  {
   "cell_type": "code",
   "execution_count": null,
   "id": "11a743dd-fb28-4738-aca1-6dad7a8be996",
   "metadata": {},
   "outputs": [],
   "source": []
  }
 ],
 "metadata": {
  "kernelspec": {
   "display_name": "Python 3 (ipykernel)",
   "language": "python",
   "name": "python3"
  },
  "language_info": {
   "codemirror_mode": {
    "name": "ipython",
    "version": 3
   },
   "file_extension": ".py",
   "mimetype": "text/x-python",
   "name": "python",
   "nbconvert_exporter": "python",
   "pygments_lexer": "ipython3",
   "version": "3.12.3"
  }
 },
 "nbformat": 4,
 "nbformat_minor": 5
}
